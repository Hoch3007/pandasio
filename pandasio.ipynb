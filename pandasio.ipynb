{
 "cells": [
  {
   "cell_type": "markdown",
   "metadata": {},
   "source": [
    "# Pandas IO Tools: Reading and Writing DataFrames as Files and Databases\n",
    "\n",
    "## Miroslav Šedivý (@eumiro)\n",
    "## PyCon.DE 2018\n",
    "\n",
    "1. CSV\n",
    "2. JSON\n",
    "3. HTML\n",
    "4. Pickle\n",
    "5. Msgpack\n",
    "6. Excel\n",
    "7. HDF5\n",
    "8. Parquet/Feather\n",
    "9. PostgreSQL/SQLite"
   ]
  },
  {
   "cell_type": "code",
   "execution_count": 3,
   "metadata": {},
   "outputs": [
    {
     "name": "stdout",
     "output_type": "stream",
     "text": [
      "Python: 3.7.0 (default, Sep 15 2018, 19:13:07) \n",
      "[GCC 8.2.1 20180831]\n",
      "Pandas: 0.23.4\n"
     ]
    }
   ],
   "source": [
    "import sys\n",
    "import pandas as pd\n",
    "print(f\"Python: {sys.version}\")\n",
    "print(f\"Pandas: {pd.__version__}\")"
   ]
  },
  {
   "cell_type": "code",
   "execution_count": 4,
   "metadata": {},
   "outputs": [],
   "source": [
    "dfr = pd.DataFrame({'a': [1., 2., 3.], 'b': [4., pd.np.nan, 6.]},\n",
    "                   index=pd.DatetimeIndex(start='2018-10-24', periods=3, freq='1D', name='dt'))"
   ]
  },
  {
   "cell_type": "markdown",
   "metadata": {},
   "source": [
    "## 1. CSV"
   ]
  },
  {
   "cell_type": "code",
   "execution_count": 1,
   "metadata": {},
   "outputs": [
    {
     "name": "stdout",
     "output_type": "stream",
     "text": [
      "what\r\n",
      "10\r\n",
      "11\r\n",
      "12\r\n"
     ]
    }
   ],
   "source": [
    "!cat a.csv"
   ]
  },
  {
   "cell_type": "code",
   "execution_count": 8,
   "metadata": {},
   "outputs": [
    {
     "data": {
      "text/html": [
       "<div>\n",
       "<style scoped>\n",
       "    .dataframe tbody tr th:only-of-type {\n",
       "        vertical-align: middle;\n",
       "    }\n",
       "\n",
       "    .dataframe tbody tr th {\n",
       "        vertical-align: top;\n",
       "    }\n",
       "\n",
       "    .dataframe thead th {\n",
       "        text-align: right;\n",
       "    }\n",
       "</style>\n",
       "<table border=\"1\" class=\"dataframe\">\n",
       "  <thead>\n",
       "    <tr style=\"text-align: right;\">\n",
       "      <th></th>\n",
       "      <th>what</th>\n",
       "    </tr>\n",
       "  </thead>\n",
       "  <tbody>\n",
       "    <tr>\n",
       "      <th>0</th>\n",
       "      <td>10</td>\n",
       "    </tr>\n",
       "    <tr>\n",
       "      <th>1</th>\n",
       "      <td>11</td>\n",
       "    </tr>\n",
       "    <tr>\n",
       "      <th>2</th>\n",
       "      <td>12</td>\n",
       "    </tr>\n",
       "  </tbody>\n",
       "</table>\n",
       "</div>"
      ],
      "text/plain": [
       "   what\n",
       "0    10\n",
       "1    11\n",
       "2    12"
      ]
     },
     "execution_count": 8,
     "metadata": {},
     "output_type": "execute_result"
    }
   ],
   "source": [
    "pd.read_csv('a.csv')"
   ]
  },
  {
   "cell_type": "code",
   "execution_count": 25,
   "metadata": {},
   "outputs": [
    {
     "name": "stdout",
     "output_type": "stream",
     "text": [
      ",a,b\n",
      "2018-10-24,1.0,4.0\n",
      "2018-10-25,2.0,\n",
      "2018-10-26,3.0,6.0\n",
      "\n"
     ]
    }
   ],
   "source": [
    "print(dfr.to_csv())"
   ]
  },
  {
   "cell_type": "markdown",
   "metadata": {},
   "source": [
    "## 2. JSON"
   ]
  },
  {
   "cell_type": "code",
   "execution_count": 10,
   "metadata": {},
   "outputs": [
    {
     "data": {
      "text/plain": [
       "'{\"a\":{\"1540339200000\":1.0,\"1540425600000\":2.0,\"1540512000000\":3.0},\"b\":{\"1540339200000\":4.0,\"1540425600000\":null,\"1540512000000\":6.0}}'"
      ]
     },
     "execution_count": 10,
     "metadata": {},
     "output_type": "execute_result"
    }
   ],
   "source": [
    "dfr.to_json()"
   ]
  },
  {
   "cell_type": "markdown",
   "metadata": {},
   "source": [
    "## 3. HTML"
   ]
  },
  {
   "cell_type": "code",
   "execution_count": 9,
   "metadata": {},
   "outputs": [
    {
     "data": {
      "text/plain": [
       "[                0           1       2             3           4  \\\n",
       " 0             NaN  Temperatur  Wetter  Niederschlag   Luftdruck   \n",
       " 1   Di, 22:00 Uhr         14°     NaN             -  1026.3 hPa   \n",
       " 2   Di, 21:30 Uhr         14°     NaN             -  1026.5 hPa   \n",
       " 3   Di, 21:20 Uhr         14°     NaN          0 mm  1026.5 hPa   \n",
       " 4   Di, 21:10 Uhr         14°     NaN          0 mm  1026.4 hPa   \n",
       " 5   Di, 21:00 Uhr         14°     NaN          0 mm    1026 hPa   \n",
       " 6   Di, 20:50 Uhr         14°     NaN          0 mm    1026 hPa   \n",
       " 7   Di, 20:40 Uhr         14°     NaN          0 mm  1025.9 hPa   \n",
       " 8   Di, 20:30 Uhr         14°     NaN          0 mm  1025.9 hPa   \n",
       " 9   Di, 20:20 Uhr         14°     NaN          0 mm  1025.9 hPa   \n",
       " 10  Di, 20:10 Uhr         14°     NaN          0 mm  1025.6 hPa   \n",
       " 11  Di, 20:00 Uhr         14°     NaN          0 mm  1025.4 hPa   \n",
       " 12  Di, 19:50 Uhr         14°     NaN          0 mm  1025.4 hPa   \n",
       " 13  Di, 19:40 Uhr         14°     NaN          0 mm  1025.1 hPa   \n",
       " 14  Di, 19:30 Uhr         14°     NaN          0 mm  1024.8 hPa   \n",
       " 15  Di, 19:20 Uhr         14°     NaN          0 mm  1024.8 hPa   \n",
       " 16  Di, 19:10 Uhr         14°     NaN          0 mm  1024.7 hPa   \n",
       " 17  Di, 19:00 Uhr         14°     NaN          0 mm  1024.9 hPa   \n",
       " 18  Di, 18:50 Uhr         14°     NaN          0 mm  1024.9 hPa   \n",
       " 19  Di, 18:40 Uhr         14°     NaN          0 mm  1024.8 hPa   \n",
       " 20  Di, 18:30 Uhr         14°     NaN          0 mm  1024.4 hPa   \n",
       " \n",
       "                          5  \n",
       " 0                     Wind  \n",
       " 1   30 km/h SWBöen 43 km/h  \n",
       " 2   24 km/h SWBöen 38 km/h  \n",
       " 3   24 km/h SWBöen 38 km/h  \n",
       " 4   23 km/h SWBöen 36 km/h  \n",
       " 5   24 km/h SWBöen 44 km/h  \n",
       " 6   24 km/h SWBöen 35 km/h  \n",
       " 7   25 km/h SWBöen 35 km/h  \n",
       " 8   25 km/h SWBöen 37 km/h  \n",
       " 9   25 km/h SWBöen 42 km/h  \n",
       " 10  30 km/h SWBöen 42 km/h  \n",
       " 11  23 km/h SWBöen 44 km/h  \n",
       " 12  23 km/h SWBöen 33 km/h  \n",
       " 13  24 km/h SWBöen 39 km/h  \n",
       " 14  31 km/h SWBöen 30 km/h  \n",
       " 15  31 km/h SWBöen 40 km/h  \n",
       " 16  30 km/h SWBöen 40 km/h  \n",
       " 17  26 km/h SWBöen 37 km/h  \n",
       " 18  26 km/h SWBöen 36 km/h  \n",
       " 19  29 km/h SWBöen 41 km/h  \n",
       " 20  28 km/h SWBöen 43 km/h  ]"
      ]
     },
     "execution_count": 9,
     "metadata": {},
     "output_type": "execute_result"
    }
   ],
   "source": [
    "url = 'https://www.wetterdienst.de/Deutschlandwetter/Karlsruhe_(Baden)/Aktuell/'\n",
    "pd.read_html(url)"
   ]
  },
  {
   "cell_type": "code",
   "execution_count": null,
   "metadata": {},
   "outputs": [],
   "source": [
    "dfr.to_html()"
   ]
  },
  {
   "cell_type": "markdown",
   "metadata": {},
   "source": [
    "## 4. Pickle"
   ]
  },
  {
   "cell_type": "code",
   "execution_count": 35,
   "metadata": {},
   "outputs": [],
   "source": [
    "# protocol\n",
    "# compression\n",
    "\n",
    "# read/write"
   ]
  },
  {
   "cell_type": "markdown",
   "metadata": {},
   "source": [
    "## 5. Msgpack"
   ]
  },
  {
   "cell_type": "code",
   "execution_count": null,
   "metadata": {},
   "outputs": [],
   "source": [
    "pd.read_msgpack()"
   ]
  },
  {
   "cell_type": "markdown",
   "metadata": {},
   "source": [
    "## 6. Excel\n",
    "\n",
    "http://pbpython.com/improve-pandas-excel-output.html"
   ]
  },
  {
   "cell_type": "code",
   "execution_count": 15,
   "metadata": {},
   "outputs": [],
   "source": [
    "reader = pd.ExcelFile('pandasio.xlsx')\n",
    "dfr = pd.read_excel(reader)\n",
    "w = pd.ExcelWriter('pandasio2.xlsx', engine='xlsxwriter')\n",
    "dfr.to_excel(w, sheet_name='one')\n",
    "sh = w.book.worksheets()[0]\n",
    "sh.write_formula('E10', '=SUM(E2:E9)')\n",
    "w.save()"
   ]
  },
  {
   "cell_type": "markdown",
   "metadata": {},
   "source": [
    "## 7. HDF5"
   ]
  },
  {
   "cell_type": "code",
   "execution_count": 9,
   "metadata": {},
   "outputs": [],
   "source": [
    "dfr.to_hdf('dfr.h5', 'dfr', format='table')"
   ]
  },
  {
   "cell_type": "markdown",
   "metadata": {},
   "source": [
    "## 8. Parquet/Feather\n",
    "\n",
    "What are the differences between Feather and Parquet?\n",
    "https://stackoverflow.com/questions/48083405/what-are-the-differences-between-feather-and-parquet\n",
    "\n",
    "Wes McKinney (January 2018):\n",
    "- Parquet format is designed for long-term storage, where Arrow is more intended for short term or ephemeral storage (Arrow may be more suitable for long-term storage after the 1.0.0 release happens, since the binary format will be stable then) _[MŠ: Version 0.11.0 as of 2018-10-08]_\n",
    "- Parquet is more expensive to write than Feather as it features more layers of encoding and compression. Feather is unmodified raw columnar Arrow memory. We will probably add simple compression to Feather in the future.\n",
    "- Due to dictionary encoding, RLE encoding, and data page compression, Parquet files will often be much smaller than Feather files\n",
    "- Parquet is a standard storage format for analytics that's supported by many different systems: Spark, Hive, Impala, various AWS services, in future by BigQuery, etc. So if you are doing analytics, Parquet is a good option as a reference storage format for query by multiple systems\n"
   ]
  },
  {
   "cell_type": "markdown",
   "metadata": {},
   "source": [
    "## 9. PostgreSQL/SQLite"
   ]
  },
  {
   "cell_type": "code",
   "execution_count": 44,
   "metadata": {},
   "outputs": [
    {
     "name": "stdout",
     "output_type": "stream",
     "text": [
      "                    dt    a    b\n",
      "0  2018-10-24 00:00:00  1.0  4.0\n",
      "1  2018-10-25 00:00:00  2.0  NaN\n",
      "2  2018-10-26 00:00:00  3.0  6.0\n"
     ]
    }
   ],
   "source": [
    "import sqlite3\n",
    "conn = sqlite3.connect('db.sqlite')\n",
    "dfr.to_sql(con=conn, name='dfr', if_exists='replace')\n",
    "\n",
    "print(pd.read_sql(\"SELECT * FROM dfr WHERE dt > CURRENT_TIMESTAMP\", con=conn))\n"
   ]
  }
 ],
 "metadata": {
  "kernelspec": {
   "display_name": "Python 3",
   "language": "python",
   "name": "python3"
  },
  "language_info": {
   "codemirror_mode": {
    "name": "ipython",
    "version": 3
   },
   "file_extension": ".py",
   "mimetype": "text/x-python",
   "name": "python",
   "nbconvert_exporter": "python",
   "pygments_lexer": "ipython3",
   "version": "3.7.0"
  }
 },
 "nbformat": 4,
 "nbformat_minor": 2
}
